{
  "nbformat": 4,
  "nbformat_minor": 0,
  "metadata": {
    "colab": {
      "name": "Networks problem.ipynb",
      "provenance": []
    },
    "kernelspec": {
      "name": "python3",
      "display_name": "Python 3"
    }
  },
  "cells": [
    {
      "cell_type": "markdown",
      "metadata": {
        "id": "MQZtO4SYcH39"
      },
      "source": [
        "W/o preferential"
      ]
    },
    {
      "cell_type": "code",
      "metadata": {
        "id": "N1SBn2iRVmjm"
      },
      "source": [
        "import matplotlib\n",
        "#matplotlib.use('TkAgg')\n",
        "from pylab import *\n",
        "import networkx as nx\n",
        "import random\n",
        "\n",
        "m0 = 1 # number of nodes in initial condition\n",
        "m = 1 # number of edges per new node\n",
        "lst2 = []\n",
        "def initialize():\n",
        "    global g\n",
        "    g = nx.complete_graph(m0)\n",
        "    g.pos = nx.spring_layout(g)\n",
        "    g.count = 0\n",
        "\n",
        "def observe():\n",
        "    global g\n",
        "    cla()\n",
        "    nx.draw(g, pos = g.pos)\n",
        "\n",
        "# modify this function to make the growth of the network \"preferential\"\n",
        "# the input nds is all the nodes in the network\n",
        "# the output i indicates the node that the new node would connect to\n",
        "def pref_select(nds):\n",
        "    global g\n",
        "    i = uniform(0, len(nds))\n",
        "    return i\n",
        "\n",
        "def update():\n",
        "    global g\n",
        "    g.count += 1\n",
        "    if g.count % 2 == 0: # network growth once in every 2 steps\n",
        "        nds = list(g.nodes)\n",
        "        newcomer = max(nds) + 1\n",
        "        for i in range(m):\n",
        "            j = pref_select(nds)\n",
        "            g.add_edge(newcomer, j)\n",
        "            del nds[int(j)]\n",
        "        g.pos[newcomer] = (0, 0)\n",
        "\n",
        "    # simulation of node movement\n",
        "    g.pos = nx.spring_layout(g, pos = g.pos, iterations = 5)\n",
        "\n",
        "def combs():\n",
        "    lst = []\n",
        "    nds = list(g.nodes)\n",
        "    for i in range(len(nds)):\n",
        "        val = list(g.neighbors(nds[i]))\n",
        "        lst.append(len(val))\n",
        "    lst2.append(lst)"
      ],
      "execution_count": 42,
      "outputs": []
    },
    {
      "cell_type": "code",
      "metadata": {
        "colab": {
          "base_uri": "https://localhost:8080/",
          "height": 247
        },
        "id": "lCfVrCbQZke1",
        "outputId": "c04919f7-a8c6-4053-da62-746d886ae11b"
      },
      "source": [
        "initialize()\n",
        "for i in range(200):\n",
        "    if i % 100 == 0:\n",
        "        observe()\n",
        "    if i % 10 == 0:\n",
        "        combs()\n",
        "    pref_select(list(g.nodes))\n",
        "    update()\n",
        "    #rint(i)"
      ],
      "execution_count": 45,
      "outputs": [
        {
          "output_type": "display_data",
          "data": {
            "image/png": "[encoded data removed]",
            "text/plain": [
              "<Figure size 432x288 with 1 Axes>"
            ]
          },
          "metadata": {
            "tags": []
          }
        }
      ]
    },
    {
      "cell_type": "code",
      "metadata": {
        "colab": {
          "base_uri": "https://localhost:8080/",
          "height": 264
        },
        "id": "Gq5u-uO3aBQX",
        "outputId": "b15a1edf-90b2-45e5-f9ae-5d85055e47bc"
      },
      "source": [
        "import matplotlib.pyplot as plt\n",
        "plt.hist(lst2[-1])\n",
        "plt.show()"
      ],
      "execution_count": 77,
      "outputs": [
        {
          "output_type": "display_data",
          "data": {
            "image/png": "[encoded data removed]",
            "text/plain": [
              "<Figure size 432x288 with 1 Axes>"
            ]
          },
          "metadata": {
            "tags": [],
            "needs_background": "light"
          }
        }
      ]
    },
    {
      "cell_type": "code",
      "metadata": {
        "colab": {
          "base_uri": "https://localhost:8080/",
          "height": 264
        },
        "id": "EdyiEYQvbpDE",
        "outputId": "5de2170e-b7fd-463b-83ce-efa4d1d89862"
      },
      "source": [
        "plt.hist(lst2[-1], log = True)\n",
        "plt.show()"
      ],
      "execution_count": 78,
      "outputs": [
        {
          "output_type": "display_data",
          "data": {
            "image/png": "[encoded data removed]",
            "text/plain": [
              "<Figure size 432x288 with 1 Axes>"
            ]
          },
          "metadata": {
            "tags": [],
            "needs_background": "light"
          }
        }
      ]
    },
    {
      "cell_type": "code",
      "metadata": {
        "id": "q_hmAiqkb0rP"
      },
      "source": [
        "import numpy as np"
      ],
      "execution_count": 34,
      "outputs": []
    },
    {
      "cell_type": "code",
      "metadata": {
        "colab": {
          "base_uri": "https://localhost:8080/",
          "height": 264
        },
        "id": "dPhMw_j1bxHt",
        "outputId": "fb7df3e2-1c82-430c-96fa-81cf44416242"
      },
      "source": [
        "for i in range(len(lst2[-1])):\n",
        "  if lst2[-1][i] == 0:\n",
        "    lst2[-1][i] = 0.1\n",
        "plt.hist(np.log10(lst2[-1]), log = True)\n",
        "plt.show()"
      ],
      "execution_count": 79,
      "outputs": [
        {
          "output_type": "display_data",
          "data": {
            "image/png": "[encoded data removed]",
            "text/plain": [
              "<Figure size 432x288 with 1 Axes>"
            ]
          },
          "metadata": {
            "tags": [],
            "needs_background": "light"
          }
        }
      ]
    },
    {
      "cell_type": "code",
      "metadata": {
        "colab": {
          "base_uri": "https://localhost:8080/",
          "height": 264
        },
        "id": "jUwqf83xcrpL",
        "outputId": "b3c94b4a-6f78-452b-d154-d74a3162dbed"
      },
      "source": [
        "plt.hist(np.log10(lst2[-1]))\n",
        "plt.show()"
      ],
      "execution_count": 80,
      "outputs": [
        {
          "output_type": "display_data",
          "data": {
            "image/png": "[encoded data removed]",
            "text/plain": [
              "<Figure size 432x288 with 1 Axes>"
            ]
          },
          "metadata": {
            "tags": [],
            "needs_background": "light"
          }
        }
      ]
    },
    {
      "cell_type": "code",
      "metadata": {
        "colab": {
          "base_uri": "https://localhost:8080/"
        },
        "id": "rIcdOCzOcOKM",
        "outputId": "69f44a3f-5a48-4167-d4e8-5e6b3e0921f2"
      },
      "source": [
        "np.mean(lst2[-1])"
      ],
      "execution_count": 51,
      "outputs": [
        {
          "output_type": "execute_result",
          "data": {
            "text/plain": [
              "0.9952879581151832"
            ]
          },
          "metadata": {
            "tags": []
          },
          "execution_count": 51
        }
      ]
    },
    {
      "cell_type": "markdown",
      "metadata": {
        "id": "uBq-1WC_cKyt"
      },
      "source": [
        "With Preferential"
      ]
    },
    {
      "cell_type": "code",
      "metadata": {
        "id": "iYvrZ4PpcFul"
      },
      "source": [
        "import matplotlib\n",
        "#matplotlib.use('TkAgg')\n",
        "from pylab import *\n",
        "import networkx as nx\n",
        "import random\n",
        "\n",
        "m0 = 1 # number of nodes in initial condition\n",
        "m = 1 # number of edges per new node\n",
        "lst2 = []\n",
        "def initialize():\n",
        "    global g\n",
        "    g = nx.complete_graph(m0)\n",
        "    g.pos = nx.spring_layout(g)\n",
        "    g.count = 0\n",
        "\n",
        "def observe():\n",
        "    global g\n",
        "    cla()\n",
        "    nx.draw(g, pos = g.pos)\n",
        "\n",
        "# modify this function to make the growth of the network \"preferential\"\n",
        "# the input nds is all the nodes in the network\n",
        "# the output i indicates the node that the new node would connect to\n",
        "def pref_select(nds):\n",
        "    global g\n",
        "    lsta = []\n",
        "    for i in range(len(nds)):\n",
        "        val = list(g.neighbors(nds[i]))\n",
        "        lsta.append(len(val))\n",
        "\n",
        "    newval = sum(lsta)\n",
        "    for i in range(len(lsta)):\n",
        "      lsta[i] = lsta[i]/newval\n",
        "    baseval = uniform(0, 1)\n",
        "    count = 0\n",
        "    for j in range(len(lsta) - 1):\n",
        "      if baseval < lsta[j]:\n",
        "        return j\n",
        "      else:\n",
        "        count += lsta[j]\n",
        "        lsta[j + 1] += count\n",
        "    return uniform(0, len(lsta))\n",
        "\n",
        "def update():\n",
        "    global g\n",
        "    g.count += 1\n",
        "    if g.count % 2 == 0: # network growth once in every 2 steps\n",
        "        nds = list(g.nodes)\n",
        "        newcomer = max(nds) + 1\n",
        "        for i in range(m):\n",
        "            j = pref_select(nds)\n",
        "            g.add_edge(newcomer, j)\n",
        "            del nds[int(j)]\n",
        "        g.pos[newcomer] = (0, 0)\n",
        "\n",
        "    # simulation of node movement\n",
        "    g.pos = nx.spring_layout(g, pos = g.pos, iterations = 5)\n",
        "\n",
        "def combs():\n",
        "    lst = []\n",
        "    nds = list(g.nodes)\n",
        "    for i in range(len(nds)):\n",
        "        val = list(g.neighbors(nds[i]))\n",
        "        lst.append(len(val))\n",
        "    lst2.append(lst)"
      ],
      "execution_count": 74,
      "outputs": []
    },
    {
      "cell_type": "code",
      "metadata": {
        "colab": {
          "base_uri": "https://localhost:8080/",
          "height": 285
        },
        "id": "ITuZwbQ3euz1",
        "outputId": "4901018f-d5ca-4e38-bd41-77c33e05bd29"
      },
      "source": [
        "initialize()\n",
        "for i in range(200):\n",
        "    if i % 100 == 0:\n",
        "        observe()\n",
        "    if i % 10 == 0:\n",
        "        combs()\n",
        "    update()"
      ],
      "execution_count": 75,
      "outputs": [
        {
          "output_type": "stream",
          "text": [
            "/usr/local/lib/python3.6/dist-packages/ipykernel_launcher.py:33: RuntimeWarning: invalid value encountered in long_scalars\n"
          ],
          "name": "stderr"
        },
        {
          "output_type": "display_data",
          "data": {
            "image/png": "[encoded data removed]",
            "text/plain": [
              "<Figure size 432x288 with 1 Axes>"
            ]
          },
          "metadata": {
            "tags": []
          }
        }
      ]
    },
    {
      "cell_type": "code",
      "metadata": {
        "colab": {
          "base_uri": "https://localhost:8080/",
          "height": 264
        },
        "id": "vTVN5F2bew4B",
        "outputId": "a21bec51-6fcf-44fb-b3cf-84538996040a"
      },
      "source": [
        "plt.hist(lst2[-1])\n",
        "plt.show()"
      ],
      "execution_count": 76,
      "outputs": [
        {
          "output_type": "display_data",
          "data": {
            "image/png": "[encoded data removed]",
            "text/plain": [
              "<Figure size 432x288 with 1 Axes>"
            ]
          },
          "metadata": {
            "tags": [],
            "needs_background": "light"
          }
        }
      ]
    },
    {
      "cell_type": "code",
      "metadata": {
        "colab": {
          "base_uri": "https://localhost:8080/"
        },
        "id": "nM-Ti5nji_Gk",
        "outputId": "b147b933-33de-4505-94a5-9812b173a789"
      },
      "source": [
        "np.mean(lst2[-1])"
      ],
      "execution_count": 81,
      "outputs": [
        {
          "output_type": "execute_result",
          "data": {
            "text/plain": [
              "1.9397959183673468"
            ]
          },
          "metadata": {
            "tags": []
          },
          "execution_count": 81
        }
      ]
    },
    {
      "cell_type": "code",
      "metadata": {
        "colab": {
          "base_uri": "https://localhost:8080/"
        },
        "id": "2Zn6AsycjhAF",
        "outputId": "3cd75b23-293d-4b7f-f90d-d6323b8b03e5"
      },
      "source": [
        "max(lst2[-1])"
      ],
      "execution_count": 82,
      "outputs": [
        {
          "output_type": "execute_result",
          "data": {
            "text/plain": [
              "36"
            ]
          },
          "metadata": {
            "tags": []
          },
          "execution_count": 82
        }
      ]
    },
    {
      "cell_type": "code",
      "metadata": {
        "id": "B2lO011nkzT4"
      },
      "source": [
        "import matplotlib\n",
        "#matplotlib.use('TkAgg')\n",
        "from pylab import *\n",
        "import networkx as nx\n",
        "import random\n",
        "\n",
        "m0 = 1 # number of nodes in initial condition\n",
        "m = 1 # number of edges per new node\n",
        "lst2 = []\n",
        "alpha = 2\n",
        "def initialize():\n",
        "    global g\n",
        "    g = nx.complete_graph(m0)\n",
        "    g.pos = nx.spring_layout(g)\n",
        "    g.count = 0\n",
        "\n",
        "def observe():\n",
        "    global g\n",
        "    cla()\n",
        "    nx.draw(g, pos = g.pos)\n",
        "\n",
        "# modify this function to make the growth of the network \"preferential\"\n",
        "# the input nds is all the nodes in the network\n",
        "# the output i indicates the node that the new node would connect to\n",
        "def pref_select(nds):\n",
        "    global g\n",
        "    lsta = []\n",
        "    for i in range(len(nds)):\n",
        "        val = list(g.neighbors(nds[i]))\n",
        "        lsta.append(len(val)**alpha)\n",
        "\n",
        "    newval = sum(lsta)\n",
        "    for i in range(len(lsta)):\n",
        "      lsta[i] = lsta[i]/newval\n",
        "    baseval = uniform(0, 1)\n",
        "    count = 0\n",
        "    for j in range(len(lsta) - 1):\n",
        "      if baseval < lsta[j]:\n",
        "        return j\n",
        "      else:\n",
        "        count += lsta[j]\n",
        "        lsta[j + 1] += count\n",
        "    return uniform(0, len(lsta))\n",
        "\n",
        "def update():\n",
        "    global g\n",
        "    g.count += 1\n",
        "    if g.count % 2 == 0: # network growth once in every 2 steps\n",
        "        nds = list(g.nodes)\n",
        "        newcomer = max(nds) + 1\n",
        "        for i in range(m):\n",
        "            j = pref_select(nds)\n",
        "            g.add_edge(newcomer, j)\n",
        "            del nds[int(j)]\n",
        "        g.pos[newcomer] = (0, 0)\n",
        "\n",
        "    # simulation of node movement\n",
        "    g.pos = nx.spring_layout(g, pos = g.pos, iterations = 5)\n",
        "\n",
        "def combs():\n",
        "    lst = []\n",
        "    nds = list(g.nodes)\n",
        "    for i in range(len(nds)):\n",
        "        val = list(g.neighbors(nds[i]))\n",
        "        lst.append(len(val))\n",
        "    lst2.append(lst)"
      ],
      "execution_count": 105,
      "outputs": []
    },
    {
      "cell_type": "code",
      "metadata": {
        "colab": {
          "base_uri": "https://localhost:8080/",
          "height": 265
        },
        "id": "WmZ-Ie80lLcE",
        "outputId": "6c52eaae-c620-4b3d-d858-e8dba49c2b1c"
      },
      "source": [
        "initialize()\n",
        "for i in range(1000):\n",
        "    if i % 100 == 0:\n",
        "        observe()\n",
        "    if i % 10 == 0:\n",
        "        combs()\n",
        "    update()"
      ],
      "execution_count": 106,
      "outputs": [
        {
          "output_type": "stream",
          "text": [
            "/usr/local/lib/python3.6/dist-packages/ipykernel_launcher.py:34: RuntimeWarning: invalid value encountered in long_scalars\n"
          ],
          "name": "stderr"
        },
        {
          "output_type": "display_data",
          "data": {
            "image/png": "[encoded data removed]",
            "text/plain": [
              "<Figure size 432x288 with 1 Axes>"
            ]
          },
          "metadata": {
            "tags": []
          }
        }
      ]
    },
    {
      "cell_type": "code",
      "metadata": {
        "colab": {
          "base_uri": "https://localhost:8080/",
          "height": 264
        },
        "id": "PCoYrdkvlMlz",
        "outputId": "09192b12-df74-41dc-9ea0-41b87eaba1e7"
      },
      "source": [
        "for i in range(len(lst2[-1])):\n",
        "  if lst2[-1][i] == 0:\n",
        "    lst2[-1][i] = 0.1\n",
        "plt.hist(np.log10(lst2[-1]), log = True)\n",
        "plt.show()"
      ],
      "execution_count": 107,
      "outputs": [
        {
          "output_type": "display_data",
          "data": {
            "image/png": "[encoded data removed]",
            "text/plain": [
              "<Figure size 432x288 with 1 Axes>"
            ]
          },
          "metadata": {
            "tags": [],
            "needs_background": "light"
          }
        }
      ]
    },
    {
      "cell_type": "code",
      "metadata": {
        "colab": {
          "base_uri": "https://localhost:8080/"
        },
        "id": "1MCLplbAllzt",
        "outputId": "011ada7a-90e8-4e5e-c8c9-9ed359a0b295"
      },
      "source": [
        "print(np.mean(lst2[-1]))\n",
        "print(max(lst2[-1]))"
      ],
      "execution_count": 108,
      "outputs": [
        {
          "output_type": "stream",
          "text": [
            "1.9841683366733467\n",
            "470\n"
          ],
          "name": "stdout"
        }
      ]
    }
  ]
}